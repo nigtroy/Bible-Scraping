{
 "cells": [
  {
   "cell_type": "code",
   "execution_count": 1,
   "id": "d26b2a5a",
   "metadata": {},
   "outputs": [],
   "source": [
    "import requests\n",
    "import json\n",
    "from bs4 import BeautifulSoup"
   ]
  },
  {
   "cell_type": "code",
   "execution_count": 2,
   "id": "4007f396",
   "metadata": {},
   "outputs": [],
   "source": [
    "url = 'https://www.biblestudytools.com/bible-versions/'"
   ]
  },
  {
   "cell_type": "code",
   "execution_count": 3,
   "id": "fcbe463e",
   "metadata": {
    "scrolled": true
   },
   "outputs": [],
   "source": [
    "def fetch_html_from_url(url):\n",
    "    try:\n",
    "        # URL of the website you want to scrape\n",
    "        \n",
    "        # Send an HTTP GET request to the URL\n",
    "        response = requests.get(url)\n",
    "\n",
    "        # Check if the request was successful\n",
    "        response.raise_for_status()\n",
    "\n",
    "        # Parse the HTML content of the page\n",
    "        soup = BeautifulSoup(response.content, 'html.parser')\n",
    "\n",
    "        # Now, you can use BeautifulSoup to extract data\n",
    "        # For example, let's extract and print all the links on the page:\n",
    "    #     for link in soup.find_all('a'):\n",
    "    #         print(link.get('href'))\n",
    "\n",
    "    except requests.exceptions.RequestException as e:\n",
    "        print(f\"Failed to make the request: {e}\")\n",
    "    except Exception as e:\n",
    "        print(f\"An error occurred: {e}\")\n",
    "        \n",
    "    return soup \n",
    "\n",
    "soup_obj = fetch_html_from_url(url)"
   ]
  },
  {
   "cell_type": "code",
   "execution_count": 4,
   "id": "d92c264e",
   "metadata": {},
   "outputs": [],
   "source": [
    "version_body = soup_obj.find_all(\"div\", class_=\"p-2 w-full\")"
   ]
  },
  {
   "cell_type": "code",
   "execution_count": 5,
   "id": "ee775c43",
   "metadata": {},
   "outputs": [
    {
     "data": {
      "text/plain": [
       "9"
      ]
     },
     "execution_count": 5,
     "metadata": {},
     "output_type": "execute_result"
    }
   ],
   "source": [
    "len(version_body)"
   ]
  },
  {
   "cell_type": "code",
   "execution_count": 6,
   "id": "1b0b64a7",
   "metadata": {},
   "outputs": [
    {
     "name": "stdout",
     "output_type": "stream",
     "text": [
      "Holman Christian Standard Bible\n",
      "https://www.biblestudytools.com/csb/\n",
      "CSB\n",
      "\n",
      "English Standard Version\n",
      "https://www.biblestudytools.com/esv/\n",
      "ESV\n",
      "\n",
      "King James Version\n",
      "https://www.biblestudytools.com/kjv/\n",
      "KJV\n",
      "\n",
      "The Message Bible\n",
      "https://www.biblestudytools.com/msg/\n",
      "MSG\n",
      "\n",
      "New American Standard Bible\n",
      "https://www.biblestudytools.com/nas/\n",
      "NAS\n",
      "\n",
      "New International Version\n",
      "https://www.biblestudytools.com/niv/\n",
      "NIV\n",
      "\n",
      "New King James Version\n",
      "https://www.biblestudytools.com/nkjv/\n",
      "NKJV\n",
      "\n",
      "New Living Translation\n",
      "https://www.biblestudytools.com/nlt/\n",
      "NLT\n",
      "\n",
      "New Revised Standard\n",
      "https://www.biblestudytools.com/nrs/\n",
      "NRS\n",
      "\n"
     ]
    }
   ],
   "source": [
    "version_dict = {}\n",
    "for version in version_body: \n",
    "    # Retrieving ceby\n",
    "    version_info = version.find(\"a\")\n",
    "    version_name_list = version_info.text.strip().split()\n",
    "    version_name = ' '.join(version_name_list[:-1])\n",
    "    version_link = version_info.get('href')\n",
    "    version_alias = version_name_list[-1]\n",
    "    version_dict[version_alias] = [version_name, version_link]\n",
    "    print(version_name)\n",
    "    print(version_link)\n",
    "    print(version_alias)\n",
    "    print()"
   ]
  },
  {
   "cell_type": "code",
   "execution_count": 7,
   "id": "4dedd028",
   "metadata": {},
   "outputs": [
    {
     "data": {
      "text/plain": [
       "'https://www.biblestudytools.com/esv/'"
      ]
     },
     "execution_count": 7,
     "metadata": {},
     "output_type": "execute_result"
    }
   ],
   "source": [
    "version_dict['ESV'][1]"
   ]
  },
  {
   "cell_type": "code",
   "execution_count": 8,
   "id": "93ccb1d8",
   "metadata": {},
   "outputs": [],
   "source": [
    "url_new = version_dict['ESV'][1]"
   ]
  },
  {
   "cell_type": "code",
   "execution_count": 9,
   "id": "68b378a4",
   "metadata": {},
   "outputs": [],
   "source": [
    "esv_soup_obj = fetch_html_from_url(url_new)"
   ]
  },
  {
   "cell_type": "code",
   "execution_count": 10,
   "id": "4bf3dc8e",
   "metadata": {},
   "outputs": [],
   "source": [
    "books_in_esv = esv_soup_obj.find_all(\"div\", class_=\"text-center\")"
   ]
  },
  {
   "cell_type": "code",
   "execution_count": 11,
   "id": "0e85295e",
   "metadata": {},
   "outputs": [],
   "source": [
    "books_dict={}\n",
    "\n",
    "for alias in version_dict.keys():\n",
    "    books_list = []\n",
    "    # get URL for particular book\n",
    "    alias_link =  version_dict[alias][1]\n",
    "    \n",
    "    # Load books page\n",
    "    book_data = fetch_html_from_url(alias_link)\n",
    "    \n",
    "    # Grab book classes\n",
    "    books_in_vers = book_data.find_all(\"div\", class_=\"text-center\")\n",
    "    \n",
    "    # Get book names and their links\n",
    "    for book in books_in_vers:\n",
    "        book_info = book.find('a')\n",
    "        if book_info:\n",
    "            book_link = book_info.get('href')\n",
    "            book_name = book_info.text.strip()\n",
    "            books_list.append((book_name,book_link))\n",
    "\n",
    "    books_dict[alias] = books_list[:-1]"
   ]
  },
  {
   "cell_type": "code",
   "execution_count": 12,
   "id": "17458827",
   "metadata": {
    "scrolled": true
   },
   "outputs": [
    {
     "data": {
      "text/plain": [
       "71"
      ]
     },
     "execution_count": 12,
     "metadata": {},
     "output_type": "execute_result"
    }
   ],
   "source": [
    "len(books_in_esv)"
   ]
  },
  {
   "cell_type": "code",
   "execution_count": 13,
   "id": "2b3a177a",
   "metadata": {},
   "outputs": [
    {
     "data": {
      "text/plain": [
       "dict_keys(['CSB', 'ESV', 'KJV', 'MSG', 'NAS', 'NIV', 'NKJV', 'NLT', 'NRS'])"
      ]
     },
     "execution_count": 13,
     "metadata": {},
     "output_type": "execute_result"
    }
   ],
   "source": [
    "books_dict.keys()"
   ]
  },
  {
   "cell_type": "code",
   "execution_count": 14,
   "id": "dec754b5",
   "metadata": {},
   "outputs": [
    {
     "data": {
      "text/plain": [
       "[('Operation Christmas Child – Shoebox Collection Week is Here!',\n",
       "  'https://samaritanspurse.org/what-we-do/operation-christmas-child/?utm_source=OCC23-Salem-Web-Alert-Bar&utm_medium=referral&utm_campaign=m_YOCC-SALW&utm_content=salem-alert-bar'),\n",
       " ('Genesis', 'https://www.biblestudytools.com/csb/genesis/'),\n",
       " ('Exodus', 'https://www.biblestudytools.com/csb/exodus/')]"
      ]
     },
     "execution_count": 14,
     "metadata": {},
     "output_type": "execute_result"
    }
   ],
   "source": [
    "books_dict['CSB'][:3]"
   ]
  },
  {
   "cell_type": "code",
   "execution_count": 15,
   "id": "c6531d4e",
   "metadata": {},
   "outputs": [
    {
     "data": {
      "text/plain": [
       "'Operation Christmas Child – Shoebox Collection Week is Here!'"
      ]
     },
     "execution_count": 15,
     "metadata": {},
     "output_type": "execute_result"
    }
   ],
   "source": [
    "books_dict['CSB'][0][0]"
   ]
  },
  {
   "cell_type": "code",
   "execution_count": 16,
   "id": "f9bd2466",
   "metadata": {},
   "outputs": [],
   "source": [
    "import re"
   ]
  },
  {
   "cell_type": "code",
   "execution_count": 17,
   "id": "31d6fa1a",
   "metadata": {},
   "outputs": [],
   "source": [
    "def get_chapters(book, book_link):\n",
    "    chapter_store = []\n",
    "    \n",
    "    # Fetch book page and retrieve information on chapters\n",
    "    book_info = fetch_html_from_url(book_link)\n",
    "    \n",
    "    # get number of chapters in book\n",
    "    num_chaps = len(book_info.find('div', class_ = 'grid').find_all('a', class_='text-center'))\n",
    "    \n",
    "    for chapter in range(1,num_chaps + 1):\n",
    "        \n",
    "        # chapter link \n",
    "        temp_chap_link = f'{book_link}{chapter}.html'\n",
    "        \n",
    "        # fetch chapter data\n",
    "        chap_data = fetch_html_from_url(temp_chap_link)\n",
    "        \n",
    "        # fetch chapter content\n",
    "        main_chap_data = chap_data.find_all('div', class_='leading-8')\n",
    "        chap_headings = main_chap_data[0].find_all('h3')\n",
    "        chap_headings_text = [heading.text for heading in chap_headings]\n",
    "        \n",
    "        \n",
    "        # fetch verses\n",
    "        verses = [\n",
    "            re.sub(' +', ' ', verse.text.replace('\\n', ' ').strip())\n",
    "            for verse in main_chap_data\n",
    "        ]\n",
    "        \n",
    "        # Store chapter data\n",
    "        chapter_store.append(verses)\n",
    "    \n",
    "    return chapter_store"
   ]
  },
  {
   "cell_type": "code",
   "execution_count": 18,
   "id": "b961792b",
   "metadata": {},
   "outputs": [],
   "source": [
    "import concurrent.futures\n",
    "import requests\n",
    "from bs4 import BeautifulSoup\n",
    "import re\n",
    "\n",
    "def fetch_html_from_url(url):\n",
    "    try:\n",
    "        headers = {\n",
    "            'User-Agent': 'Mozilla/5.0 (Windows NT 10.0; Win64; x64) AppleWebKit/537.36 (KHTML, like Gecko) Chrome/91.0.4472.124 Safari/537.36'\n",
    "        }\n",
    "\n",
    "        response = requests.get(url, headers=headers, timeout=10)\n",
    "        response.raise_for_status()\n",
    "        soup = BeautifulSoup(response.content, 'html.parser')\n",
    "\n",
    "    except requests.exceptions.RequestException as e:\n",
    "        print(f\"Failed to make the request: {e}\")\n",
    "        soup = None\n",
    "    except Exception as e:\n",
    "        print(f\"An error occurred: {e}\")\n",
    "        soup = None\n",
    "\n",
    "    return soup\n",
    "\n",
    "def fetch_chapter_data(chapter, book_link):\n",
    "    temp_chap_link = f'{book_link}{chapter}.html'\n",
    "    chap_data = fetch_html_from_url(temp_chap_link)\n",
    "\n",
    "    if chap_data:\n",
    "        main_chap_data = chap_data.find_all('div', class_='leading-8')\n",
    "        chap_headings = main_chap_data[0].find_all('h3')\n",
    "        chap_headings_text = [heading.text for heading in chap_headings]\n",
    "\n",
    "        verses = [\n",
    "            re.sub(' +', ' ', verse.text.replace('\\n', ' ').strip())\n",
    "            for verse in main_chap_data\n",
    "        ]\n",
    "\n",
    "        return verses\n",
    "\n",
    "    return None\n",
    "\n",
    "def get_chapters(book, book_link):\n",
    "    chapter_store = []\n",
    "\n",
    "    book_info = fetch_html_from_url(book_link)\n",
    "\n",
    "    if book_info:\n",
    "        num_chaps = len(book_info.find('div', class_='grid').find_all('a', class_='text-center'))\n",
    "\n",
    "        with concurrent.futures.ThreadPoolExecutor() as executor:\n",
    "            chapter_store = list(executor.map(lambda chap: fetch_chapter_data(chap, book_link), range(1, num_chaps + 1)))\n",
    "\n",
    "    return chapter_store\n",
    "\n",
    "# # Example usage:\n",
    "# book_link = \"https://example.com/book/\"\n",
    "# chapters = get_chapters(\"Example Book\", book_link)\n",
    "# print(chapters)"
   ]
  },
  {
   "cell_type": "code",
   "execution_count": 35,
   "id": "e7fe0bce",
   "metadata": {},
   "outputs": [],
   "source": [
    "book_name, book_link = books_dict['NKJV'][-2]"
   ]
  },
  {
   "cell_type": "code",
   "execution_count": 36,
   "id": "6501d2dc",
   "metadata": {},
   "outputs": [],
   "source": [
    "chaps_gotten = get_chapters(book_name, book_link)"
   ]
  },
  {
   "cell_type": "code",
   "execution_count": 37,
   "id": "9215d580",
   "metadata": {},
   "outputs": [
    {
     "data": {
      "text/plain": [
       "['1 Jude, a bondservant of Jesus Christ, and brother of James, To those who are called, sanctified [a] by God the Father, and preserved in Jesus Christ:',\n",
       " '2 Mercy, peace, and love be multiplied to you.',\n",
       " '3 Beloved, while I was very diligent to write to you concerning our common salvation, I found it necessary to write to you exhorting you to contend earnestly for the faith which was once for all delivered to the saints.',\n",
       " '4 For certain men have crept in unnoticed, who long ago were marked out for this condemnation, ungodly men, who turn the grace of our God into lewdness and deny the only Lord God [b] and our Lord Jesus Christ.',\n",
       " '5 But I want to remind you, though you once knew this, that the Lord, having saved the people out of the land of Egypt, afterward destroyed those who did not believe.',\n",
       " '6 And the angels who did not keep their proper domain, but left their own abode, He has reserved in everlasting chains under darkness for the judgment of the great day;',\n",
       " '7 as Sodom and Gomorrah, and the cities around them in a similar manner to these, having given themselves over to sexual immorality and gone after strange flesh, are set forth as an example, suffering the vengeance of eternal fire.',\n",
       " '8 Likewise also these dreamers defile the flesh, reject authority, and speak evil of dignitaries.',\n",
       " '9 Yet Michael the archangel, in contending with the devil, when he disputed about the body of Moses, dared not bring against him a reviling accusation, but said, \"The Lord rebuke you!\"',\n",
       " '10 But these speak evil of whatever they do not know; and whatever they know naturally, like brute beasts, in these things they corrupt themselves.',\n",
       " '11 Woe to them! For they have gone in the way of Cain, have run greedily in the error of Balaam for profit, and perished in the rebellion of Korah.',\n",
       " '12 These are spots in your love feasts, while they feast with you without fear, serving only themselves. They are clouds without water, carried about [c] by the winds; late autumn trees without fruit, twice dead, pulled up by the roots;',\n",
       " '13 raging waves of the sea, foaming up their own shame; wandering stars for whom is reserved the blackness of darkness forever.',\n",
       " '14 Now Enoch, the seventh from Adam, prophesied about these men also, saying, \"Behold, the Lord comes with ten thousands of His saints,',\n",
       " '15 to execute judgment on all, to convict all who are ungodly among them of all their ungodly deeds which they have committed in an ungodly way, and of all the harsh things which ungodly sinners have spoken against Him.\"',\n",
       " '16 These are grumblers, complainers, walking according to their own lusts; and they mouth great swelling words, flattering people to gain advantage.',\n",
       " '17 But you, beloved, remember the words which were spoken before by the apostles of our Lord Jesus Christ:',\n",
       " '18 how they told you that there would be mockers in the last time who would walk according to their own ungodly lusts.',\n",
       " '19 These are sensual persons, who cause divisions, not having the Spirit.',\n",
       " '20 But you, beloved, building yourselves up on your most holy faith, praying in the Holy Spirit,',\n",
       " '21 keep yourselves in the love of God, looking for the mercy of our Lord Jesus Christ unto eternal life.',\n",
       " '22 And on some have compassion, making a distinction; [d]',\n",
       " '23 but others save with fear, pulling them out of the fire, [e] hating even the garment defiled by the flesh.',\n",
       " '24 Now to Him who is able to keep you [f] from stumbling, And to present you faultless Before the presence of His glory with exceeding joy,',\n",
       " '25 To God our Savior, [g] Who alone is wise, [h] Be glory and majesty, Dominion and power, [i] Both now and forever. Amen.']"
      ]
     },
     "execution_count": 37,
     "metadata": {},
     "output_type": "execute_result"
    }
   ],
   "source": [
    "chaps_gotten[0]"
   ]
  },
  {
   "cell_type": "code",
   "execution_count": null,
   "id": "03f42570",
   "metadata": {},
   "outputs": [],
   "source": [
    "books_dict.keys()"
   ]
  },
  {
   "cell_type": "code",
   "execution_count": null,
   "id": "0f942494",
   "metadata": {},
   "outputs": [],
   "source": [
    "bible_books = books_dict['CSB']"
   ]
  },
  {
   "cell_type": "code",
   "execution_count": null,
   "id": "49d57f16",
   "metadata": {},
   "outputs": [],
   "source": [
    "# Get all chapter for all books\n",
    "import time \n",
    "\n",
    "bible_versions_books = {}\n",
    "for version in list(books_dict.keys())[1:2]:\n",
    "    saved_book = {}\n",
    "    \n",
    "    # Retrieve books in version \n",
    "    bible_books = books_dict[version]\n",
    "    \n",
    "    for book, book_link in bible_books:\n",
    "        # Retrieve bible book chapters\n",
    "        book_chaps_gotten = get_chapters(book, book_link)\n",
    "\n",
    "        # Store book chapter in dictionary\n",
    "        saved_book[book] = book_chaps_gotten\n",
    "\n",
    "        # Introduce a time delay to avoid burdening the server\n",
    "        time.sleep(1)  # You can adjust the sleep duration as needed\n",
    "        \n",
    "    bible_versions_books[version] = saved_book\n",
    "\n",
    "with open('data/bible_versions_book_new.json', 'w+') as f:\n",
    "    json.dump(saved_book, f)\n",
    "    "
   ]
  },
  {
   "cell_type": "code",
   "execution_count": null,
   "id": "fae752c1",
   "metadata": {},
   "outputs": [],
   "source": [
    "bible_versions_books.keys()"
   ]
  },
  {
   "cell_type": "code",
   "execution_count": null,
   "id": "12fcf4d7",
   "metadata": {},
   "outputs": [],
   "source": [
    "list(books_dict.keys())[:1]"
   ]
  },
  {
   "cell_type": "code",
   "execution_count": null,
   "id": "406bcf82",
   "metadata": {},
   "outputs": [],
   "source": [
    "list(books_dict.keys())"
   ]
  },
  {
   "cell_type": "code",
   "execution_count": null,
   "id": "7b042aab",
   "metadata": {},
   "outputs": [],
   "source": [
    "chaps_gotten[1].find_all('div', class_='leading-8')[0].text.strip()"
   ]
  },
  {
   "cell_type": "code",
   "execution_count": null,
   "id": "abde3d34",
   "metadata": {},
   "outputs": [],
   "source": [
    "chaps_gotten[4]"
   ]
  },
  {
   "cell_type": "code",
   "execution_count": null,
   "id": "02e6eb3e",
   "metadata": {},
   "outputs": [],
   "source": []
  }
 ],
 "metadata": {
  "kernelspec": {
   "display_name": "Python 3 (ipykernel)",
   "language": "python",
   "name": "python3"
  },
  "language_info": {
   "codemirror_mode": {
    "name": "ipython",
    "version": 3
   },
   "file_extension": ".py",
   "mimetype": "text/x-python",
   "name": "python",
   "nbconvert_exporter": "python",
   "pygments_lexer": "ipython3",
   "version": "3.9.18"
  }
 },
 "nbformat": 4,
 "nbformat_minor": 5
}
