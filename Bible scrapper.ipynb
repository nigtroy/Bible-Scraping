{
 "cells": [
  {
   "cell_type": "code",
   "execution_count": 1,
   "id": "d26b2a5a",
   "metadata": {},
   "outputs": [],
   "source": [
    "import requests\n",
    "from bs4 import BeautifulSoup"
   ]
  },
  {
   "cell_type": "code",
   "execution_count": 2,
   "id": "4007f396",
   "metadata": {},
   "outputs": [],
   "source": [
    "url = 'https://www.biblestudytools.com/bible-versions/'"
   ]
  },
  {
   "cell_type": "code",
   "execution_count": 3,
   "id": "fcbe463e",
   "metadata": {
    "scrolled": true
   },
   "outputs": [],
   "source": [
    "def fetch_html_from_url(url):\n",
    "    try:\n",
    "        # URL of the website you want to scrape\n",
    "        \n",
    "        # Send an HTTP GET request to the URL\n",
    "        response = requests.get(url)\n",
    "\n",
    "        # Check if the request was successful\n",
    "        response.raise_for_status()\n",
    "\n",
    "        # Parse the HTML content of the page\n",
    "        soup = BeautifulSoup(response.content, 'html.parser')\n",
    "\n",
    "        # Now, you can use BeautifulSoup to extract data\n",
    "        # For example, let's extract and print all the links on the page:\n",
    "    #     for link in soup.find_all('a'):\n",
    "    #         print(link.get('href'))\n",
    "\n",
    "    except requests.exceptions.RequestException as e:\n",
    "        print(f\"Failed to make the request: {e}\")\n",
    "    except Exception as e:\n",
    "        print(f\"An error occurred: {e}\")\n",
    "        \n",
    "    return soup \n",
    "\n",
    "soup_obj = fetch_html_from_url(url)"
   ]
  },
  {
   "cell_type": "code",
   "execution_count": 4,
   "id": "d92c264e",
   "metadata": {},
   "outputs": [],
   "source": [
    "version_body = soup_obj.find_all(\"div\", class_=\"p-2 w-full\")"
   ]
  },
  {
   "cell_type": "code",
   "execution_count": 5,
   "id": "ee775c43",
   "metadata": {},
   "outputs": [
    {
     "data": {
      "text/plain": [
       "9"
      ]
     },
     "execution_count": 5,
     "metadata": {},
     "output_type": "execute_result"
    }
   ],
   "source": [
    "len(version_body)"
   ]
  },
  {
   "cell_type": "code",
   "execution_count": 6,
   "id": "1b0b64a7",
   "metadata": {},
   "outputs": [
    {
     "name": "stdout",
     "output_type": "stream",
     "text": [
      "Holman Christian Standard Bible\n",
      "https://www.biblestudytools.com/csb/\n",
      "CSB\n",
      "\n",
      "English Standard Version\n",
      "https://www.biblestudytools.com/esv/\n",
      "ESV\n",
      "\n",
      "King James Version\n",
      "https://www.biblestudytools.com/kjv/\n",
      "KJV\n",
      "\n",
      "The Message Bible\n",
      "https://www.biblestudytools.com/msg/\n",
      "MSG\n",
      "\n",
      "New American Standard Bible\n",
      "https://www.biblestudytools.com/nas/\n",
      "NAS\n",
      "\n",
      "New International Version\n",
      "https://www.biblestudytools.com/niv/\n",
      "NIV\n",
      "\n",
      "New King James Version\n",
      "https://www.biblestudytools.com/nkjv/\n",
      "NKJV\n",
      "\n",
      "New Living Translation\n",
      "https://www.biblestudytools.com/nlt/\n",
      "NLT\n",
      "\n",
      "New Revised Standard\n",
      "https://www.biblestudytools.com/nrs/\n",
      "NRS\n",
      "\n"
     ]
    }
   ],
   "source": [
    "version_dict = {}\n",
    "for version in version_body: \n",
    "    # Retrieving ceby\n",
    "    version_info = version.find(\"a\")\n",
    "    version_name_list = version_info.text.strip().split()\n",
    "    version_name = ' '.join(version_name_list[:-1])\n",
    "    version_link = version_info.get('href')\n",
    "    version_alias = version_name_list[-1]\n",
    "    version_dict[version_alias] = [version_name, version_link]\n",
    "    print(version_name)\n",
    "    print(version_link)\n",
    "    print(version_alias)\n",
    "    print()"
   ]
  },
  {
   "cell_type": "code",
   "execution_count": 7,
   "id": "4dedd028",
   "metadata": {},
   "outputs": [
    {
     "data": {
      "text/plain": [
       "'https://www.biblestudytools.com/esv/'"
      ]
     },
     "execution_count": 7,
     "metadata": {},
     "output_type": "execute_result"
    }
   ],
   "source": [
    "version_dict['ESV'][1]"
   ]
  },
  {
   "cell_type": "code",
   "execution_count": 8,
   "id": "93ccb1d8",
   "metadata": {},
   "outputs": [],
   "source": [
    "url_new = version_dict['ESV'][1]"
   ]
  },
  {
   "cell_type": "code",
   "execution_count": 9,
   "id": "68b378a4",
   "metadata": {},
   "outputs": [],
   "source": [
    "esv_soup_obj = fetch_html_from_url(url_new)"
   ]
  },
  {
   "cell_type": "code",
   "execution_count": 10,
   "id": "4bf3dc8e",
   "metadata": {},
   "outputs": [],
   "source": [
    "books_in_esv = esv_soup_obj.find_all(\"div\", class_=\"text-center\")"
   ]
  },
  {
   "cell_type": "code",
   "execution_count": 11,
   "id": "0e85295e",
   "metadata": {},
   "outputs": [],
   "source": [
    "books_dict={}\n",
    "\n",
    "for alias in version_dict.keys():\n",
    "    books_list = []\n",
    "    # get URL for particular book\n",
    "    alias_link =  version_dict[alias][1]\n",
    "    \n",
    "    # Load books page\n",
    "    book_data = fetch_html_from_url(alias_link)\n",
    "    \n",
    "    # Grab book classes\n",
    "    books_in_vers = book_data.find_all(\"div\", class_=\"text-center\")\n",
    "    \n",
    "    # Get book names and their links\n",
    "    for book in books_in_vers:\n",
    "        book_info = book.find('a')\n",
    "        if book_info:\n",
    "            book_link = book_info.get('href')\n",
    "            book_name = book_info.text.strip()\n",
    "            books_list.append((book_name,book_link))\n",
    "\n",
    "    books_dict[alias] = books_list[:-1]"
   ]
  },
  {
   "cell_type": "code",
   "execution_count": 12,
   "id": "17458827",
   "metadata": {
    "scrolled": true
   },
   "outputs": [
    {
     "data": {
      "text/plain": [
       "70"
      ]
     },
     "execution_count": 12,
     "metadata": {},
     "output_type": "execute_result"
    }
   ],
   "source": [
    "len(books_in_esv)"
   ]
  },
  {
   "cell_type": "code",
   "execution_count": 13,
   "id": "2b3a177a",
   "metadata": {},
   "outputs": [
    {
     "data": {
      "text/plain": [
       "dict_keys(['CSB', 'ESV', 'KJV', 'MSG', 'NAS', 'NIV', 'NKJV', 'NLT', 'NRS'])"
      ]
     },
     "execution_count": 13,
     "metadata": {},
     "output_type": "execute_result"
    }
   ],
   "source": [
    "books_dict.keys()"
   ]
  },
  {
   "cell_type": "code",
   "execution_count": 14,
   "id": "dec754b5",
   "metadata": {},
   "outputs": [
    {
     "data": {
      "text/plain": [
       "[('Genesis', 'https://www.biblestudytools.com/csb/genesis/'),\n",
       " ('Exodus', 'https://www.biblestudytools.com/csb/exodus/'),\n",
       " ('Leviticus', 'https://www.biblestudytools.com/csb/leviticus/')]"
      ]
     },
     "execution_count": 14,
     "metadata": {},
     "output_type": "execute_result"
    }
   ],
   "source": [
    "books_dict['CSB'][:3]"
   ]
  },
  {
   "cell_type": "code",
   "execution_count": 17,
   "id": "c6531d4e",
   "metadata": {},
   "outputs": [
    {
     "data": {
      "text/plain": [
       "'Genesis'"
      ]
     },
     "execution_count": 17,
     "metadata": {},
     "output_type": "execute_result"
    }
   ],
   "source": [
    "books_dict['CSB'][0][0]"
   ]
  },
  {
   "cell_type": "code",
   "execution_count": 112,
   "id": "f9bd2466",
   "metadata": {},
   "outputs": [],
   "source": [
    "import re"
   ]
  },
  {
   "cell_type": "code",
   "execution_count": 119,
   "id": "31d6fa1a",
   "metadata": {},
   "outputs": [],
   "source": [
    "def get_chapters(book, book_link):\n",
    "    chapter_store = []\n",
    "    \n",
    "    # Fetch book page and retrieve information on chapters\n",
    "    book_info = fetch_html_from_url(book_link)\n",
    "    \n",
    "    # get number of chapters in book\n",
    "    num_chaps = len(book_info.find('div', class_ = 'grid').find_all('a', class_='text-center'))\n",
    "    \n",
    "    for chapter in range(1,num_chaps + 1):\n",
    "        \n",
    "        # chapter link \n",
    "        temp_chap_link = f'{book_link}{chapter}.html'\n",
    "        \n",
    "        # fetch chapter data\n",
    "        chap_data = fetch_html_from_url(temp_chap_link)\n",
    "        \n",
    "        # fetch chapter content\n",
    "        main_chap_data = chap_data.find_all('div', class_='leading-8')\n",
    "        chap_headings = main_chap_data[0].find_all('h3')\n",
    "        chap_headings_text = [heading.text for heading in chap_headings]\n",
    "        \n",
    "        \n",
    "        # fetch verses\n",
    "        verses = [\n",
    "            re.sub(' +', ' ', verse.text.replace('\\n', ' ').strip())\n",
    "            for verse in main_chap_data\n",
    "        ]\n",
    "        \n",
    "        # Store chapter data\n",
    "        chapter_store.append(verses)\n",
    "    \n",
    "    return chapter_store"
   ]
  },
  {
   "cell_type": "code",
   "execution_count": 120,
   "id": "e7fe0bce",
   "metadata": {},
   "outputs": [],
   "source": [
    "book_name, book_link = books_dict['CSB'][1]"
   ]
  },
  {
   "cell_type": "code",
   "execution_count": 121,
   "id": "6501d2dc",
   "metadata": {},
   "outputs": [],
   "source": [
    "chaps_gotten = get_chapters(book_name, book_link)"
   ]
  },
  {
   "cell_type": "code",
   "execution_count": 88,
   "id": "406bcf82",
   "metadata": {},
   "outputs": [
    {
     "data": {
      "text/plain": [
       "'1'"
      ]
     },
     "execution_count": 88,
     "metadata": {},
     "output_type": "execute_result"
    }
   ],
   "source": [
    "chaps_gotten[1].find('div', class_='leading-8').find('a').text"
   ]
  },
  {
   "cell_type": "code",
   "execution_count": 94,
   "id": "7b042aab",
   "metadata": {},
   "outputs": [
    {
     "data": {
      "text/plain": [
       "\"Moses' Birth and Adoption 1 Now a man from the family of Levi married a Levite woman.\""
      ]
     },
     "execution_count": 94,
     "metadata": {},
     "output_type": "execute_result"
    }
   ],
   "source": [
    "chaps_gotten[1].find_all('div', class_='leading-8')[0].text.strip()"
   ]
  },
  {
   "cell_type": "code",
   "execution_count": 118,
   "id": "abde3d34",
   "metadata": {},
   "outputs": [
    {
     "ename": "IndexError",
     "evalue": "list index out of range",
     "output_type": "error",
     "traceback": [
      "\u001b[1;31m---------------------------------------------------------------------------\u001b[0m",
      "\u001b[1;31mIndexError\u001b[0m                                Traceback (most recent call last)",
      "Cell \u001b[1;32mIn[118], line 1\u001b[0m\n\u001b[1;32m----> 1\u001b[0m \u001b[43mchaps_gotten\u001b[49m\u001b[43m[\u001b[49m\u001b[38;5;241;43m4\u001b[39;49m\u001b[43m]\u001b[49m\n",
      "\u001b[1;31mIndexError\u001b[0m: list index out of range"
     ]
    }
   ],
   "source": [
    "chaps_gotten[4]"
   ]
  },
  {
   "cell_type": "code",
   "execution_count": null,
   "id": "02e6eb3e",
   "metadata": {},
   "outputs": [],
   "source": []
  }
 ],
 "metadata": {
  "kernelspec": {
   "display_name": "Python 3 (ipykernel)",
   "language": "python",
   "name": "python3"
  },
  "language_info": {
   "codemirror_mode": {
    "name": "ipython",
    "version": 3
   },
   "file_extension": ".py",
   "mimetype": "text/x-python",
   "name": "python",
   "nbconvert_exporter": "python",
   "pygments_lexer": "ipython3",
   "version": "3.9.12"
  }
 },
 "nbformat": 4,
 "nbformat_minor": 5
}
