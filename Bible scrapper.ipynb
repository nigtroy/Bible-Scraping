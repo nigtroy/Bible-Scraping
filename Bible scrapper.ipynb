{
 "cells": [
  {
   "cell_type": "code",
   "execution_count": 22,
   "id": "d26b2a5a",
   "metadata": {},
   "outputs": [],
   "source": [
    "import requests\n",
    "import time \n",
    "import concurrent.futures\n",
    "import re\n",
    "import os\n",
    "import json\n",
    "import shutil\n",
    "from bs4 import BeautifulSoup"
   ]
  },
  {
   "cell_type": "code",
   "execution_count": 2,
   "id": "4007f396",
   "metadata": {},
   "outputs": [],
   "source": [
    "url = 'https://www.biblestudytools.com/bible-versions/'"
   ]
  },
  {
   "cell_type": "code",
   "execution_count": 3,
   "id": "fcbe463e",
   "metadata": {
    "scrolled": true
   },
   "outputs": [],
   "source": [
    "def fetch_html_from_url(url):\n",
    "    try:\n",
    "        # URL of the website you want to scrape\n",
    "        \n",
    "        # Send an HTTP GET request to the URL\n",
    "        response = requests.get(url)\n",
    "\n",
    "        # Check if the request was successful\n",
    "        response.raise_for_status()\n",
    "\n",
    "        # Parse the HTML content of the page\n",
    "        soup = BeautifulSoup(response.content, 'html.parser')\n",
    "\n",
    "        # Now, you can use BeautifulSoup to extract data\n",
    "        # For example, let's extract and print all the links on the page:\n",
    "    #     for link in soup.find_all('a'):\n",
    "    #         print(link.get('href'))\n",
    "\n",
    "    except requests.exceptions.RequestException as e:\n",
    "        print(f\"Failed to make the request: {e}\")\n",
    "    except Exception as e:\n",
    "        print(f\"An error occurred: {e}\")\n",
    "        \n",
    "    return soup \n",
    "\n",
    "soup_obj = fetch_html_from_url(url)"
   ]
  },
  {
   "cell_type": "code",
   "execution_count": 4,
   "id": "d92c264e",
   "metadata": {},
   "outputs": [],
   "source": [
    "version_body = soup_obj.find_all(\"div\", class_=\"p-2 w-full\")"
   ]
  },
  {
   "cell_type": "code",
   "execution_count": 5,
   "id": "ee775c43",
   "metadata": {},
   "outputs": [
    {
     "data": {
      "text/plain": [
       "9"
      ]
     },
     "execution_count": 5,
     "metadata": {},
     "output_type": "execute_result"
    }
   ],
   "source": [
    "len(version_body)"
   ]
  },
  {
   "cell_type": "code",
   "execution_count": 6,
   "id": "1b0b64a7",
   "metadata": {},
   "outputs": [
    {
     "name": "stdout",
     "output_type": "stream",
     "text": [
      "Holman Christian Standard Bible\n",
      "https://www.biblestudytools.com/csb/\n",
      "CSB\n",
      "\n",
      "English Standard Version\n",
      "https://www.biblestudytools.com/esv/\n",
      "ESV\n",
      "\n",
      "King James Version\n",
      "https://www.biblestudytools.com/kjv/\n",
      "KJV\n",
      "\n",
      "The Message Bible\n",
      "https://www.biblestudytools.com/msg/\n",
      "MSG\n",
      "\n",
      "New American Standard Bible\n",
      "https://www.biblestudytools.com/nas/\n",
      "NAS\n",
      "\n",
      "New International Version\n",
      "https://www.biblestudytools.com/niv/\n",
      "NIV\n",
      "\n",
      "New King James Version\n",
      "https://www.biblestudytools.com/nkjv/\n",
      "NKJV\n",
      "\n",
      "New Living Translation\n",
      "https://www.biblestudytools.com/nlt/\n",
      "NLT\n",
      "\n",
      "New Revised Standard\n",
      "https://www.biblestudytools.com/nrs/\n",
      "NRS\n",
      "\n"
     ]
    }
   ],
   "source": [
    "version_dict = {}\n",
    "for version in version_body: \n",
    "    # Retrieving ceby\n",
    "    version_info = version.find(\"a\")\n",
    "    version_name_list = version_info.text.strip().split()\n",
    "    version_name = ' '.join(version_name_list[:-1])\n",
    "    version_link = version_info.get('href')\n",
    "    version_alias = version_name_list[-1]\n",
    "    version_dict[version_alias] = [version_name, version_link]\n",
    "    print(version_name)\n",
    "    print(version_link)\n",
    "    print(version_alias)\n",
    "    print()"
   ]
  },
  {
   "cell_type": "code",
   "execution_count": 7,
   "id": "4dedd028",
   "metadata": {},
   "outputs": [
    {
     "data": {
      "text/plain": [
       "'https://www.biblestudytools.com/esv/'"
      ]
     },
     "execution_count": 7,
     "metadata": {},
     "output_type": "execute_result"
    }
   ],
   "source": [
    "version_dict['ESV'][1]"
   ]
  },
  {
   "cell_type": "code",
   "execution_count": 10,
   "id": "93ccb1d8",
   "metadata": {},
   "outputs": [],
   "source": [
    "url_new = version_dict['ESV'][1]"
   ]
  },
  {
   "cell_type": "code",
   "execution_count": 11,
   "id": "68b378a4",
   "metadata": {},
   "outputs": [],
   "source": [
    "esv_soup_obj = fetch_html_from_url(url_new)"
   ]
  },
  {
   "cell_type": "code",
   "execution_count": 12,
   "id": "4bf3dc8e",
   "metadata": {},
   "outputs": [],
   "source": [
    "books_in_esv = esv_soup_obj.find_all(\"div\", class_=\"text-center\")"
   ]
  },
  {
   "cell_type": "code",
   "execution_count": 13,
   "id": "0e85295e",
   "metadata": {},
   "outputs": [],
   "source": [
    "books_dict={}\n",
    "\n",
    "for alias in version_dict.keys():\n",
    "    books_list = []\n",
    "    # get URL for particular book\n",
    "    alias_link =  version_dict[alias][1]\n",
    "    \n",
    "    # Load books page\n",
    "    book_data = fetch_html_from_url(alias_link)\n",
    "    \n",
    "   # Grab book classes\n",
    "    book_grid = book_data.find_all(\"div\", class_=\"mt-3\")\n",
    "    book_data = min(book_grid, key=len)\n",
    "    books_in_vers = book_data.find_all(\"div\", class_=\"text-center\")\n",
    "\n",
    "    # Get book names and their links\n",
    "    for book in books_in_vers:\n",
    "        book_info = book.find('a')\n",
    "        if book_info:\n",
    "            book_link = book_info.get('href')\n",
    "            book_name = book_info.text.strip()\n",
    "            books_list.append((book_name,book_link))\n",
    "\n",
    "    books_dict[alias] = books_list"
   ]
  },
  {
   "cell_type": "code",
   "execution_count": 14,
   "id": "2b3a177a",
   "metadata": {},
   "outputs": [
    {
     "data": {
      "text/plain": [
       "dict_keys(['CSB', 'ESV', 'KJV', 'MSG', 'NAS', 'NIV', 'NKJV', 'NLT', 'NRS'])"
      ]
     },
     "execution_count": 14,
     "metadata": {},
     "output_type": "execute_result"
    }
   ],
   "source": [
    "books_dict.keys()"
   ]
  },
  {
   "cell_type": "code",
   "execution_count": 15,
   "id": "dec754b5",
   "metadata": {},
   "outputs": [
    {
     "data": {
      "text/plain": [
       "[('3 John', 'https://www.biblestudytools.com/csb/3-john/'),\n",
       " ('Jude', 'https://www.biblestudytools.com/csb/jude/'),\n",
       " ('Revelation', 'https://www.biblestudytools.com/csb/revelation/')]"
      ]
     },
     "execution_count": 15,
     "metadata": {},
     "output_type": "execute_result"
    }
   ],
   "source": [
    "books_dict['CSB'][-3:]"
   ]
  },
  {
   "cell_type": "code",
   "execution_count": 16,
   "id": "c6531d4e",
   "metadata": {},
   "outputs": [
    {
     "data": {
      "text/plain": [
       "'Genesis'"
      ]
     },
     "execution_count": 16,
     "metadata": {},
     "output_type": "execute_result"
    }
   ],
   "source": [
    "books_dict['CSB'][0][0]"
   ]
  },
  {
   "cell_type": "code",
   "execution_count": 17,
   "id": "b961792b",
   "metadata": {},
   "outputs": [],
   "source": [
    "def fetch_html_from_url(url):\n",
    "    try:\n",
    "        headers = {\n",
    "            'User-Agent': 'Mozilla/5.0 (Windows NT 10.0; Win64; x64) AppleWebKit/537.36 (KHTML, like Gecko) Chrome/91.0.4472.124 Safari/537.36'\n",
    "        }\n",
    "\n",
    "        response = requests.get(url, headers=headers, timeout=10)\n",
    "        response.raise_for_status()\n",
    "        soup = BeautifulSoup(response.content, 'html.parser')\n",
    "        \n",
    "    except requests.exceptions.RequestException as e:\n",
    "        print(f\"Failed to make the request: {e}\")\n",
    "        soup = None\n",
    "    except Exception as e:\n",
    "        print(f\"An error occurred: {e}\")\n",
    "        soup = None\n",
    "\n",
    "    return soup \n",
    "\n",
    "def fetch_chapter_data(chapter, book_link):\n",
    "    temp_chap_link = f'{book_link}{chapter}.html'\n",
    "    chap_data = fetch_html_from_url(temp_chap_link)\n",
    "\n",
    "    if chap_data:\n",
    "        main_chap_data = chap_data.find_all('div', class_='leading-8')\n",
    "        chap_headings = main_chap_data[0].find_all('h3')\n",
    "        chap_headings_text = [heading.text for heading in chap_headings]\n",
    "        \n",
    "        # Remove reference text interfering with main text\n",
    "        verses = []\n",
    "        for verse in main_chap_data:\n",
    "            # Exclude text within <sup> tags and their associated references\n",
    "            for sup_tag in verse.find_all('sup'):\n",
    "                sup_tag.decompose()\n",
    "\n",
    "            verse_text = re.sub(' +', ' ', verse.text.replace('\\n', ' ').strip())\n",
    "            verses.append(verse_text)\n",
    "\n",
    "\n",
    "        return verses\n",
    "\n",
    "    return None\n",
    "\n",
    "def get_chapters(book, book_link):\n",
    "    chapter_store = []\n",
    "\n",
    "    book_info = fetch_html_from_url(book_link)\n",
    "\n",
    "    if book_info:\n",
    "        num_chaps = len(book_info.find('div', class_='grid').find_all('a', class_='text-center'))\n",
    "\n",
    "        with concurrent.futures.ThreadPoolExecutor() as executor:\n",
    "            chapter_store = list(executor.map(lambda chap: fetch_chapter_data(chap, book_link), range(1, num_chaps + 1)))\n",
    "\n",
    "    return chapter_store\n",
    "\n",
    "\n",
    "def make_dir(path):\n",
    "    if os.path.exists(path):\n",
    "        shutil.rmtree(path)\n",
    "    os.makedirs(path)\n",
    "    \n",
    "    \n",
    "\n",
    "def make_path(root_dir, version, book=None, chapter=None, file_extension=\".txt\"):\n",
    "    components = [version]\n",
    "\n",
    "    if book:\n",
    "        components.append(book)\n",
    "    \n",
    "    if chapter is not None:\n",
    "        components.append(f\"chap_{chapter}{file_extension}\")\n",
    "\n",
    "    path = os.path.join(root_dir, *components)\n",
    "    return path\n",
    "\n",
    "\n",
    "# # Example usage:\n",
    "# book_link = \"https://example.com/book/\"\n",
    "# chapters = get_chapters(\"Example Book\", book_link)\n",
    "# print(chapters)"
   ]
  },
  {
   "cell_type": "code",
   "execution_count": 18,
   "id": "e7fe0bce",
   "metadata": {},
   "outputs": [],
   "source": [
    "book_name, book_link = books_dict['ESV'][-1]"
   ]
  },
  {
   "cell_type": "code",
   "execution_count": 19,
   "id": "6501d2dc",
   "metadata": {},
   "outputs": [],
   "source": [
    "chaps_gotten = get_chapters(book_name, book_link)"
   ]
  },
  {
   "cell_type": "code",
   "execution_count": 20,
   "id": "9ca37298",
   "metadata": {},
   "outputs": [
    {
     "data": {
      "text/plain": [
       "['The River of Life 1 Then the angel showed me the river of the water of life, bright as crystal, flowing from the throne of God and of the Lamb',\n",
       " '2 through the middle of the street of the city; also, on either side of the river, the tree of life with its twelve kinds of fruit, yielding its fruit each month. The leaves of the tree were for the healing of the nations.']"
      ]
     },
     "execution_count": 20,
     "metadata": {},
     "output_type": "execute_result"
    }
   ],
   "source": [
    "chaps_gotten[-1][:2]"
   ]
  },
  {
   "cell_type": "code",
   "execution_count": 68,
   "id": "03f42570",
   "metadata": {},
   "outputs": [
    {
     "data": {
      "text/plain": [
       "dict_keys(['CSB', 'ESV', 'KJV', 'MSG', 'NAS', 'NIV', 'NKJV', 'NLT', 'NRS'])"
      ]
     },
     "execution_count": 68,
     "metadata": {},
     "output_type": "execute_result"
    }
   ],
   "source": [
    "books_dict.keys()"
   ]
  },
  {
   "cell_type": "code",
   "execution_count": null,
   "id": "0f942494",
   "metadata": {},
   "outputs": [],
   "source": [
    "bible_books = books_dict['CSB']"
   ]
  },
  {
   "cell_type": "code",
   "execution_count": 129,
   "id": "49d57f16",
   "metadata": {},
   "outputs": [
    {
     "name": "stdout",
     "output_type": "stream",
     "text": [
      "Failed to make the request: HTTPSConnectionPool(host='www.biblestudytools.com', port=443): Read timed out. (read timeout=10)\n",
      "Failed to make the request: ('Connection aborted.', ConnectionResetError(10054, 'An existing connection was forcibly closed by the remote host', None, 10054, None))Failed to make the request: ('Connection aborted.', ConnectionResetError(10054, 'An existing connection was forcibly closed by the remote host', None, 10054, None))\n",
      "Failed to make the request: ('Connection aborted.', ConnectionResetError(10054, 'An existing connection was forcibly closed by the remote host', None, 10054, None))\n",
      "\n",
      "Failed to make the request: ('Connection aborted.', ConnectionResetError(10054, 'An existing connection was forcibly closed by the remote host', None, 10054, None))\n",
      "Failed to make the request: ('Connection aborted.', ConnectionResetError(10054, 'An existing connection was forcibly closed by the remote host', None, 10054, None))\n",
      "Failed to make the request: ('Connection aborted.', ConnectionResetError(10054, 'An existing connection was forcibly closed by the remote host', None, 10054, None))\n",
      "Failed to make the request: ('Connection aborted.', ConnectionResetError(10054, 'An existing connection was forcibly closed by the remote host', None, 10054, None))\n",
      "Failed to make the request: ('Connection aborted.', ConnectionResetError(10054, 'An existing connection was forcibly closed by the remote host', None, 10054, None))Failed to make the request: ('Connection aborted.', ConnectionResetError(10054, 'An existing connection was forcibly closed by the remote host', None, 10054, None))\n",
      "\n"
     ]
    },
    {
     "ename": "KeyboardInterrupt",
     "evalue": "",
     "output_type": "error",
     "traceback": [
      "\u001b[1;31m---------------------------------------------------------------------------\u001b[0m",
      "\u001b[1;31mKeyboardInterrupt\u001b[0m                         Traceback (most recent call last)",
      "Cell \u001b[1;32mIn[129], line 13\u001b[0m\n\u001b[0;32m      9\u001b[0m bible_books \u001b[38;5;241m=\u001b[39m books_dict[version]\n\u001b[0;32m     11\u001b[0m \u001b[38;5;28;01mfor\u001b[39;00m book, book_link \u001b[38;5;129;01min\u001b[39;00m bible_books:\n\u001b[0;32m     12\u001b[0m     \u001b[38;5;66;03m# Retrieve bible book chapters\u001b[39;00m\n\u001b[1;32m---> 13\u001b[0m     book_chaps_gotten \u001b[38;5;241m=\u001b[39m \u001b[43mget_chapters\u001b[49m\u001b[43m(\u001b[49m\u001b[43mbook\u001b[49m\u001b[43m,\u001b[49m\u001b[43m \u001b[49m\u001b[43mbook_link\u001b[49m\u001b[43m)\u001b[49m\n\u001b[0;32m     15\u001b[0m     \u001b[38;5;66;03m# Store book chapter in dictionary\u001b[39;00m\n\u001b[0;32m     16\u001b[0m     saved_book[book] \u001b[38;5;241m=\u001b[39m book_chaps_gotten\n",
      "Cell \u001b[1;32mIn[62], line 58\u001b[0m, in \u001b[0;36mget_chapters\u001b[1;34m(book, book_link)\u001b[0m\n\u001b[0;32m     55\u001b[0m     num_chaps \u001b[38;5;241m=\u001b[39m \u001b[38;5;28mlen\u001b[39m(book_info\u001b[38;5;241m.\u001b[39mfind(\u001b[38;5;124m'\u001b[39m\u001b[38;5;124mdiv\u001b[39m\u001b[38;5;124m'\u001b[39m, class_\u001b[38;5;241m=\u001b[39m\u001b[38;5;124m'\u001b[39m\u001b[38;5;124mgrid\u001b[39m\u001b[38;5;124m'\u001b[39m)\u001b[38;5;241m.\u001b[39mfind_all(\u001b[38;5;124m'\u001b[39m\u001b[38;5;124ma\u001b[39m\u001b[38;5;124m'\u001b[39m, class_\u001b[38;5;241m=\u001b[39m\u001b[38;5;124m'\u001b[39m\u001b[38;5;124mtext-center\u001b[39m\u001b[38;5;124m'\u001b[39m))\n\u001b[0;32m     57\u001b[0m     \u001b[38;5;28;01mwith\u001b[39;00m concurrent\u001b[38;5;241m.\u001b[39mfutures\u001b[38;5;241m.\u001b[39mThreadPoolExecutor() \u001b[38;5;28;01mas\u001b[39;00m executor:\n\u001b[1;32m---> 58\u001b[0m         chapter_store \u001b[38;5;241m=\u001b[39m \u001b[38;5;28;43mlist\u001b[39;49m\u001b[43m(\u001b[49m\u001b[43mexecutor\u001b[49m\u001b[38;5;241;43m.\u001b[39;49m\u001b[43mmap\u001b[49m\u001b[43m(\u001b[49m\u001b[38;5;28;43;01mlambda\u001b[39;49;00m\u001b[43m \u001b[49m\u001b[43mchap\u001b[49m\u001b[43m:\u001b[49m\u001b[43m \u001b[49m\u001b[43mfetch_chapter_data\u001b[49m\u001b[43m(\u001b[49m\u001b[43mchap\u001b[49m\u001b[43m,\u001b[49m\u001b[43m \u001b[49m\u001b[43mbook_link\u001b[49m\u001b[43m)\u001b[49m\u001b[43m,\u001b[49m\u001b[43m \u001b[49m\u001b[38;5;28;43mrange\u001b[39;49m\u001b[43m(\u001b[49m\u001b[38;5;241;43m1\u001b[39;49m\u001b[43m,\u001b[49m\u001b[43m \u001b[49m\u001b[43mnum_chaps\u001b[49m\u001b[43m \u001b[49m\u001b[38;5;241;43m+\u001b[39;49m\u001b[43m \u001b[49m\u001b[38;5;241;43m1\u001b[39;49m\u001b[43m)\u001b[49m\u001b[43m)\u001b[49m\u001b[43m)\u001b[49m\n\u001b[0;32m     60\u001b[0m \u001b[38;5;28;01mreturn\u001b[39;00m chapter_store\n",
      "File \u001b[1;32m~\\anaconda3\\lib\\concurrent\\futures\\_base.py:609\u001b[0m, in \u001b[0;36mExecutor.map.<locals>.result_iterator\u001b[1;34m()\u001b[0m\n\u001b[0;32m    606\u001b[0m \u001b[38;5;28;01mwhile\u001b[39;00m fs:\n\u001b[0;32m    607\u001b[0m     \u001b[38;5;66;03m# Careful not to keep a reference to the popped future\u001b[39;00m\n\u001b[0;32m    608\u001b[0m     \u001b[38;5;28;01mif\u001b[39;00m timeout \u001b[38;5;129;01mis\u001b[39;00m \u001b[38;5;28;01mNone\u001b[39;00m:\n\u001b[1;32m--> 609\u001b[0m         \u001b[38;5;28;01myield\u001b[39;00m \u001b[43mfs\u001b[49m\u001b[38;5;241;43m.\u001b[39;49m\u001b[43mpop\u001b[49m\u001b[43m(\u001b[49m\u001b[43m)\u001b[49m\u001b[38;5;241;43m.\u001b[39;49m\u001b[43mresult\u001b[49m\u001b[43m(\u001b[49m\u001b[43m)\u001b[49m\n\u001b[0;32m    610\u001b[0m     \u001b[38;5;28;01melse\u001b[39;00m:\n\u001b[0;32m    611\u001b[0m         \u001b[38;5;28;01myield\u001b[39;00m fs\u001b[38;5;241m.\u001b[39mpop()\u001b[38;5;241m.\u001b[39mresult(end_time \u001b[38;5;241m-\u001b[39m time\u001b[38;5;241m.\u001b[39mmonotonic())\n",
      "File \u001b[1;32m~\\anaconda3\\lib\\concurrent\\futures\\_base.py:441\u001b[0m, in \u001b[0;36mFuture.result\u001b[1;34m(self, timeout)\u001b[0m\n\u001b[0;32m    438\u001b[0m \u001b[38;5;28;01melif\u001b[39;00m \u001b[38;5;28mself\u001b[39m\u001b[38;5;241m.\u001b[39m_state \u001b[38;5;241m==\u001b[39m FINISHED:\n\u001b[0;32m    439\u001b[0m     \u001b[38;5;28;01mreturn\u001b[39;00m \u001b[38;5;28mself\u001b[39m\u001b[38;5;241m.\u001b[39m__get_result()\n\u001b[1;32m--> 441\u001b[0m \u001b[38;5;28;43mself\u001b[39;49m\u001b[38;5;241;43m.\u001b[39;49m\u001b[43m_condition\u001b[49m\u001b[38;5;241;43m.\u001b[39;49m\u001b[43mwait\u001b[49m\u001b[43m(\u001b[49m\u001b[43mtimeout\u001b[49m\u001b[43m)\u001b[49m\n\u001b[0;32m    443\u001b[0m \u001b[38;5;28;01mif\u001b[39;00m \u001b[38;5;28mself\u001b[39m\u001b[38;5;241m.\u001b[39m_state \u001b[38;5;129;01min\u001b[39;00m [CANCELLED, CANCELLED_AND_NOTIFIED]:\n\u001b[0;32m    444\u001b[0m     \u001b[38;5;28;01mraise\u001b[39;00m CancelledError()\n",
      "File \u001b[1;32m~\\anaconda3\\lib\\threading.py:312\u001b[0m, in \u001b[0;36mCondition.wait\u001b[1;34m(self, timeout)\u001b[0m\n\u001b[0;32m    310\u001b[0m \u001b[38;5;28;01mtry\u001b[39;00m:    \u001b[38;5;66;03m# restore state no matter what (e.g., KeyboardInterrupt)\u001b[39;00m\n\u001b[0;32m    311\u001b[0m     \u001b[38;5;28;01mif\u001b[39;00m timeout \u001b[38;5;129;01mis\u001b[39;00m \u001b[38;5;28;01mNone\u001b[39;00m:\n\u001b[1;32m--> 312\u001b[0m         \u001b[43mwaiter\u001b[49m\u001b[38;5;241;43m.\u001b[39;49m\u001b[43macquire\u001b[49m\u001b[43m(\u001b[49m\u001b[43m)\u001b[49m\n\u001b[0;32m    313\u001b[0m         gotit \u001b[38;5;241m=\u001b[39m \u001b[38;5;28;01mTrue\u001b[39;00m\n\u001b[0;32m    314\u001b[0m     \u001b[38;5;28;01melse\u001b[39;00m:\n",
      "\u001b[1;31mKeyboardInterrupt\u001b[0m: "
     ]
    }
   ],
   "source": [
    "# Get all chapter for all books\n",
    "cwd = os.getcwd()\n",
    "root_data_dir = os.path.join(cwd, 'data')\n",
    "\n",
    "# \n",
    "bible_versions_books = {}\n",
    "for version in list(books_dict.keys()):\n",
    "    saved_book = {}\n",
    "    \n",
    "    # Retrieve books in version \n",
    "    bible_books = books_dict[version]\n",
    "    \n",
    "    for book, book_link in bible_books:\n",
    "        # Retrieve bible book chapters\n",
    "        book_chaps_gotten = get_chapters(book, book_link)\n",
    "\n",
    "        # Store book chapter in dictionary\n",
    "        saved_book[book] = book_chaps_gotten\n",
    "\n",
    "        # Introduce a time delay to avoid burdening the server\n",
    "        time.sleep(1)  # You can adjust the sleep duration as needed\n",
    "        \n",
    "    bible_versions_books[version] = saved_book\n",
    "    time.sleep(5)\n",
    "\n",
    "with open('data/bible_vers_all_2.json', 'w+') as f:\n",
    "    json.dump(bible_versions_books, f)\n",
    "    "
   ]
  },
  {
   "cell_type": "code",
   "execution_count": 127,
   "id": "bb8c4520",
   "metadata": {},
   "outputs": [
    {
     "data": {
      "text/plain": [
       "66"
      ]
     },
     "execution_count": 127,
     "metadata": {},
     "output_type": "execute_result"
    }
   ],
   "source": [
    "len(bible_versions_books['NRS'].keys())\n"
   ]
  },
  {
   "cell_type": "code",
   "execution_count": 70,
   "id": "fae752c1",
   "metadata": {},
   "outputs": [
    {
     "data": {
      "text/plain": [
       "dict_keys([])"
      ]
     },
     "execution_count": 70,
     "metadata": {},
     "output_type": "execute_result"
    }
   ],
   "source": [
    "bible_versions_books.keys()"
   ]
  },
  {
   "cell_type": "code",
   "execution_count": 74,
   "id": "1349148d",
   "metadata": {},
   "outputs": [
    {
     "data": {
      "text/plain": [
       "'ESV'"
      ]
     },
     "execution_count": 74,
     "metadata": {},
     "output_type": "execute_result"
    }
   ],
   "source": [
    "version"
   ]
  },
  {
   "cell_type": "code",
   "execution_count": null,
   "id": "12fcf4d7",
   "metadata": {},
   "outputs": [],
   "source": [
    "list(books_dict.keys())[:1]"
   ]
  },
  {
   "cell_type": "code",
   "execution_count": null,
   "id": "406bcf82",
   "metadata": {},
   "outputs": [],
   "source": [
    "list(books_dict.keys())"
   ]
  },
  {
   "cell_type": "code",
   "execution_count": null,
   "id": "7b042aab",
   "metadata": {},
   "outputs": [],
   "source": [
    "chaps_gotten[1].find_all('div', class_='leading-8')[0].text.strip()"
   ]
  },
  {
   "cell_type": "code",
   "execution_count": null,
   "id": "abde3d34",
   "metadata": {},
   "outputs": [],
   "source": [
    "chaps_gotten[4]"
   ]
  },
  {
   "cell_type": "code",
   "execution_count": null,
   "id": "02e6eb3e",
   "metadata": {},
   "outputs": [],
   "source": []
  }
 ],
 "metadata": {
  "kernelspec": {
   "display_name": "Python 3 (ipykernel)",
   "language": "python",
   "name": "python3"
  },
  "language_info": {
   "codemirror_mode": {
    "name": "ipython",
    "version": 3
   },
   "file_extension": ".py",
   "mimetype": "text/x-python",
   "name": "python",
   "nbconvert_exporter": "python",
   "pygments_lexer": "ipython3",
   "version": "3.9.18"
  }
 },
 "nbformat": 4,
 "nbformat_minor": 5
}
